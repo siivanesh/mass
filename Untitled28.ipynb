{
  "cells": [
    {
      "cell_type": "markdown",
      "metadata": {
        "id": "view-in-github",
        "colab_type": "text"
      },
      "source": [
        "<a href=\"https://colab.research.google.com/github/siivanesh/mass/blob/main/Untitled28.ipynb\" target=\"_parent\"><img src=\"https://colab.research.google.com/assets/colab-badge.svg\" alt=\"Open In Colab\"/></a>"
      ]
    },
    {
      "cell_type": "markdown",
      "id": "fadc5e89",
      "metadata": {
        "id": "fadc5e89"
      },
      "source": [
        "# EDITH in Python"
      ]
    },
    {
      "cell_type": "raw",
      "id": "e2632c8b",
      "metadata": {
        "id": "e2632c8b"
      },
      "source": [
        "Required Modules\n",
        "1)requests\n",
        "2)BeautifulSoup\n",
        "3)cv2"
      ]
    },
    {
      "cell_type": "code",
      "execution_count": null,
      "id": "fb87accd",
      "metadata": {
        "id": "fb87accd"
      },
      "outputs": [],
      "source": [
        "import requests\n",
        "from bs4 import BeautifulSoup\n",
        "import cv2"
      ]
    },
    {
      "cell_type": "code",
      "execution_count": null,
      "id": "9e1a57df",
      "metadata": {
        "id": "9e1a57df"
      },
      "outputs": [],
      "source": [
        "def takephoto():\n",
        "\n",
        "    # Open the default camera (usually the built-in webcam). You can specify a different camera by changing the parameter (e.g., cv2.VideoCapture(1) for a secondary camera).\n",
        "    cap = cv2.VideoCapture(1)\n",
        "\n",
        "    if not cap.isOpened():\n",
        "        print(\"Error: Could not open camera.\")\n",
        "        exit()\n",
        "\n",
        "    # Read a single frame from the camera\n",
        "    ret, frame = cap.read()\n",
        "\n",
        "    if not ret:\n",
        "        print(\"Error: Could not capture an image.\")\n",
        "        exit()\n",
        "\n",
        "    # Release the camera\n",
        "    cap.release()\n",
        "\n",
        "    # Define the file name and path where you want to save the image\n",
        "    file_name = \"captured_image.png\"\n",
        "\n",
        "    # Save the captured frame as an image file\n",
        "    cv2.imwrite(file_name, frame)\n",
        "\n",
        "    # Release any OpenCV windows (if any were opened)\n",
        "    cv2.destroyAllWindows()\n",
        "\n",
        "    print(f\"Image saved as {file_name}\")\n"
      ]
    },
    {
      "cell_type": "code",
      "execution_count": null,
      "id": "1aa07171",
      "metadata": {
        "id": "1aa07171",
        "outputId": "3222dde8-bd6c-40cb-d406-2c34df01ee31"
      },
      "outputs": [
        {
          "name": "stdout",
          "output_type": "stream",
          "text": [
            "Image saved as captured_image.png\n"
          ]
        }
      ],
      "source": [
        "takephoto()"
      ]
    },
    {
      "cell_type": "code",
      "execution_count": null,
      "id": "ca778076",
      "metadata": {
        "id": "ca778076"
      },
      "outputs": [],
      "source": [
        "\n",
        "def upload_image_to_imgbb(image_path, api_key):\n",
        "    url = \"https://api.imgbb.com/1/upload\"\n",
        "    files = {\"image\": (image_path, open(image_path, \"rb\"))}\n",
        "    params = {\"key\": api_key}\n",
        "\n",
        "    response = requests.post(url, files=files, params=params)\n",
        "    data = response.json()\n",
        "    return data.get(\"data\", {}).get(\"url\")"
      ]
    },
    {
      "cell_type": "code",
      "execution_count": null,
      "id": "45610cf0",
      "metadata": {
        "id": "45610cf0"
      },
      "outputs": [],
      "source": [
        "urls=upload_image_to_imgbb('captured_image.png',\"fe4095abd2b2d313d039c4d7e28fb628\")"
      ]
    },
    {
      "cell_type": "code",
      "execution_count": null,
      "id": "4ceebf70",
      "metadata": {
        "id": "4ceebf70",
        "outputId": "74643464-5c1e-40f5-f59c-a6dab2ee8f3b"
      },
      "outputs": [
        {
          "data": {
            "text/plain": [
              "'https://i.ibb.co/3fWc5C6/captured-image.png'"
            ]
          },
          "execution_count": 18,
          "metadata": {},
          "output_type": "execute_result"
        }
      ],
      "source": [
        "urls"
      ]
    },
    {
      "cell_type": "code",
      "execution_count": null,
      "id": "4d72326b",
      "metadata": {
        "id": "4d72326b"
      },
      "outputs": [],
      "source": []
    },
    {
      "cell_type": "code",
      "execution_count": null,
      "id": "1d094b69",
      "metadata": {
        "id": "1d094b69"
      },
      "outputs": [],
      "source": []
    },
    {
      "cell_type": "code",
      "execution_count": null,
      "id": "b9fedbf8",
      "metadata": {
        "id": "b9fedbf8"
      },
      "outputs": [],
      "source": [
        "def scan(data):\n",
        "    links=[]\n",
        "    socialmedia = [\"instagram\", \"facebook\", \"twitter\", \"linkedin\", \"github\",'amazon','flipkart']\n",
        "    for i in data.find_all('script')[-5]:\n",
        "        for j in i.split(\",\"):\n",
        "            if \"https\" in j:\n",
        "                for x in j.split('\"'):\n",
        "                    if \"https\" in x:\n",
        "                        print(x)\n",
        "                        for y in socialmedia:\n",
        "                            if y in x:\n",
        "                                links.append(x)\n",
        "    return links"
      ]
    },
    {
      "cell_type": "code",
      "execution_count": null,
      "id": "b27d4b64",
      "metadata": {
        "id": "b27d4b64"
      },
      "outputs": [],
      "source": []
    },
    {
      "cell_type": "code",
      "execution_count": null,
      "id": "af2f615f",
      "metadata": {
        "id": "af2f615f"
      },
      "outputs": [],
      "source": []
    },
    {
      "cell_type": "code",
      "execution_count": null,
      "id": "3f1f79f3",
      "metadata": {
        "id": "3f1f79f3"
      },
      "outputs": [],
      "source": [
        "def visualsearch():\n",
        "    #takephoto()\n",
        "    urls=upload_image_to_imgbb('captured_image.png',\"fe4095abd2b2d313d039c4d7e28fb628\")\n",
        "\n",
        "    import webbrowser\n",
        "    url = f'https://lens.google.com/uploadbyurl?url={urls}'\n",
        "    headers = {\n",
        "                'User-Agent': 'Mozilla/5.0 (X11; Ubuntu; Linux x86_64; rv:52.0) Gecko/20100101 Firefox/52.0'\n",
        "            }\n",
        "    # Send an HTTP GET request to the URL\n",
        "    response = requests.get(url,headers=headers)\n",
        "\n",
        "    # Check if the request was successful\n",
        "    if response.status_code == 200:\n",
        "        # Parse the HTML content of the page\n",
        "        data = BeautifulSoup(response.text, 'html.parser')\n",
        "        links=scan(data)\n",
        "        for i in links[:10]:\n",
        "            webbrowser.open(i)"
      ]
    },
    {
      "cell_type": "code",
      "execution_count": null,
      "id": "91395ece",
      "metadata": {
        "id": "91395ece",
        "outputId": "0bdb0d37-b18a-42b8-faab-7927aa8bede0"
      },
      "outputs": [
        {
          "name": "stdout",
          "output_type": "stream",
          "text": [
            "https://encrypted-tbn2.gstatic.com/images?q\\u003dtbn:ANd9GcQFItrc80xK0PdxUTelwnqrt6LdsQdjropDXSKBhb8HDj85wJ2R\n",
            "https://twitter.com/kristastar4\n",
            "https://twitter.com/kristastar4\n",
            "https://encrypted-tbn0.gstatic.com/favicon-tbn?q\\u003dtbn:ANd9GcTobhbt0ZKwS5VFQSzydvQt8vjhhiwervtw9rdJdbWu12RMXaoRjkTltT0aoTWQ6_jjnhnlkM8mMaX4wNSw065V_4Iu62Ljd402sY56ddVX_w\n",
            "https://encrypted-tbn3.gstatic.com/images?q\\u003dtbn:ANd9GcSM141xmO4DKwwuZ9qkr3tg07VMtAKI2WfF3ge8uL1AJ-e1RP_w\n",
            "https://twitter.com/Leven2k/status/1288262521598681089\n",
            "https://twitter.com/Leven2k/status/1288262521598681089\n",
            "https://encrypted-tbn0.gstatic.com/favicon-tbn?q\\u003dtbn:ANd9GcTobhbt0ZKwS5VFQSzydvQt8vjhhiwervtw9rdJdbWu12RMXaoRjkTltT0aoTWQ6_jjnhnlkM8mMaX4wNSw065V_4Iu62Ljd402sY56ddVX_w\n",
            "https://encrypted-tbn3.gstatic.com/images?q\\u003dtbn:ANd9GcSEx4js9m9q0dYJI3VsPTwOX4-gN8T51Qbyfcph_FFwNS9dr6wz\n",
            "https://www.reddit.com/r/MouseReview/comments/wd1i0x/pulsar_x2_mouse_grip/\n",
            "https://www.reddit.com/r/MouseReview/comments/wd1i0x/pulsar_x2_mouse_grip/\n",
            "https://encrypted-tbn2.gstatic.com/favicon-tbn?q\\u003dtbn:ANd9GcRFeJS-IhfJCysoVmCqJ1d-1lzbIHTsbcy4DrBsZJpxQ31zznhym7THnNEKCEnngpvdl4aupEFtEblIPBEMJY7_biy055d40m6TYfVg7CpFOrWOXw\n",
            "https://encrypted-tbn1.gstatic.com/images?q\\u003dtbn:ANd9GcRyccJyd3h7XbZoOrnniy0o-g5JVCGMWgg-iuml62TSrR1iar4i\n",
            "https://www.reddit.com/r/WindowsHelp/comments/117vhk0/help_i_tried_rebooting_my_computer_du_to_the/\n",
            "https://www.reddit.com/r/WindowsHelp/comments/117vhk0/help_i_tried_rebooting_my_computer_du_to_the/\n",
            "https://encrypted-tbn2.gstatic.com/favicon-tbn?q\\u003dtbn:ANd9GcRFeJS-IhfJCysoVmCqJ1d-1lzbIHTsbcy4DrBsZJpxQ31zznhym7THnNEKCEnngpvdl4aupEFtEblIPBEMJY7_biy055d40m6TYfVg7CpFOrWOXw\n",
            "https://encrypted-tbn2.gstatic.com/images?q\\u003dtbn:ANd9GcSmRSpwLiz6zVsVC78u0mNr1NIiZVy5-uxKFhtHGa0JjG48as4j\n",
            "https://offerup.com/item/detail/1617880848\n",
            "https://offerup.com/item/detail/1617880848\n",
            "https://encrypted-tbn1.gstatic.com/favicon-tbn?q\\u003dtbn:ANd9GcQOpn8VGWE4WTPZ8ydi0mIUqrcXCa_ZGdiYvmSvv1ZTfocziUicxQd6cA902k4n4Iltki0oLHp-19WnwtXmnl0VkrXpSxjkv8AOsbdoHE_4yg\n",
            "https://encrypted-tbn1.gstatic.com/images?q\\u003dtbn:ANd9GcQ1oK34VM9_hDhK80gZPtfpllVhjAHm0xmJMC8Ltw0nOkziwV_a\n",
            "https://www.boredpanda.com/msi-gaming-monitor-stops-bullet-replaced-northeast-fresno-eric-gan/\n",
            "https://www.boredpanda.com/msi-gaming-monitor-stops-bullet-replaced-northeast-fresno-eric-gan/\n",
            "https://encrypted-tbn3.gstatic.com/favicon-tbn?q\\u003dtbn:ANd9GcSk8NsueH9x7q-EJfKPNH7u96_JYooRS9JHM4JVJDYAh_k4aEfKxRhwVvngj1QY-RHMDJQlfsN1H9pRJ8Mgl_w1lZ08AHAarcuvnSFnaZ0aYNKh0QwceR8\n",
            "https://encrypted-tbn0.gstatic.com/images?q\\u003dtbn:ANd9GcSYHRKps3nQUg4YmzHel7tojeS_vpFBjzl0RjieHBiy64XQf8P_\n",
            "https://pokde.net/review/asus-rog-swift-pg27uq-review-heres-what-an-rm11k-monitor-feels-like\n",
            "https://pokde.net/review/asus-rog-swift-pg27uq-review-heres-what-an-rm11k-monitor-feels-like\n",
            "https://encrypted-tbn2.gstatic.com/favicon-tbn?q\\u003dtbn:ANd9GcRkvV1WzmFK01jyFO6nHKIVkBIKLQ7bN-iOYd0hCRTpzdcYFV-XjS9BwR8BVs6FWPxkxzPfEOkNraDI8UBg54RlPVP_1FvmFZS6WC9_brU\n",
            "https://encrypted-tbn0.gstatic.com/images?q\\u003dtbn:ANd9GcQdZGG7eDAhbXA-840OQYGjpmZ8JMVdtZpMMWBa4R8-a21MBLUN\n",
            "https://www.facebook.com/115651493632125/photos/a.115651843632090/115651823632092/?type\\u003d3\n",
            "https://www.facebook.com/115651493632125/photos/a.115651843632090/115651823632092/?type\\u003d3\n",
            "https://encrypted-tbn3.gstatic.com/favicon-tbn?q\\u003dtbn:ANd9GcRv794zBOQO02ChHD5K_TnlJwwf8PThFmn58OZAhQnomqvb1XKnHGAk8BQDBcyXho53FvXtsB2eVFSimUAzH3zcBAPC_yfttm2gkn07x3UumIdkepR5\n",
            "https://encrypted-tbn1.gstatic.com/images?q\\u003dtbn:ANd9GcQnhFanDuqooLgK1kzOAxGJull76-GaZM8Mc2OPEzBTPFo5GzXX\n",
            "https://www.amazon.com/Samsung-S22F350FH-21-5-Inch-FHD-Monitor/product-reviews/B01CX26WCW\n",
            "https://www.amazon.com/Samsung-S22F350FH-21-5-Inch-FHD-Monitor/product-reviews/B01CX26WCW\n",
            "https://encrypted-tbn1.gstatic.com/favicon-tbn?q\\u003dtbn:ANd9GcRm4oMDPHDSWBDQhB5-csYIdmVde_ZfnfUYnfzlJJ9w7zjXG34H4SL9TXI2H8XWInsqPagyhBQjtImrHgLv9Bwvw_d2JvfjMfz3ox9yR82MKQ7yrQ\n",
            "https://encrypted-tbn2.gstatic.com/images?q\\u003dtbn:ANd9GcSCxX-HYtxfIcxs5JR_TZYIgUaCAacFAkSVU83PH5-o3-LvVmYd\n",
            "https://www.youtube.com/watch?v\\u003d-a_58gad2PU\n",
            "https://www.youtube.com/watch?v\\u003d-a_58gad2PU\n",
            "https://encrypted-tbn0.gstatic.com/favicon-tbn?q\\u003dtbn:ANd9GcQHQslzHLLyLc_qne5jxn7JocidlmUPyegZ8ojX3WVlorFk8BxW9a3vJWjDzN99UHVTqSaNBj_-6XykhxuVQfF3Ye7xScSWSuc2QHXi0a12CkVwBmo\n",
            "https://encrypted-tbn0.gstatic.com/images?q\\u003dtbn:ANd9GcRXfOl6iAxLuRb6mDb0lbfrifgbIMwBhaT5UL2WvBiuI72IMtMD\n",
            "https://www.romflasher.com/product/intex-led-2205fhd-firmware-mxic25l3205/\n",
            "https://www.romflasher.com/product/intex-led-2205fhd-firmware-mxic25l3205/\n",
            "https://encrypted-tbn3.gstatic.com/favicon-tbn?q\\u003dtbn:ANd9GcS0Vk0YjlvOu55JMGG9CB9xOUAm7F0ojMcXLmH0DL5easwoXiDas8BCohv8athGOSHSrE2WZMn-VX2-WpvKwqlfQXiFu3qTjG9Zwq1XRbepfZampjg1DWo\n",
            "https://encrypted-tbn0.gstatic.com/images?q\\u003dtbn:ANd9GcS57M25xnIc_UMwXh5P_onEpSQ6-OnCUfSxP1oXowwXwOmcCWgh\n",
            "https://www.pinterest.com/pin/king-pic--1040964901340524486/\n",
            "https://www.pinterest.com/pin/king-pic--1040964901340524486/\n",
            "https://encrypted-tbn0.gstatic.com/favicon-tbn?q\\u003dtbn:ANd9GcTQdhYKRbbqgCC_hUKbg1LBwalc5hFvDef04aKtEm4ymk1UmePKJrPlt_LjHvB7Aq1dYoIBbiIJ1NlsjKc5XTus20V-QeQkUPl9ea4gZzUE1nhIYNB2UA\n",
            "https://encrypted-tbn1.gstatic.com/images?q\\u003dtbn:ANd9GcTKY0gkM9eIQb39hJYFZvzMDlPuAHFlyNL2Qs4H5nD0OCqSfzf6\n",
            "https://orcd.co/livestream\n",
            "https://orcd.co/livestream\n",
            "https://encrypted-tbn0.gstatic.com/favicon-tbn?q\\u003dtbn:ANd9GcRemD4U6OozrkXpuV-VMb9Q7Re8y3cX31_tofF-UNQD17ZOychiuavis_H0bZjtTweONJSAhjamL9LFLcblE_qX2IWohCdlzMgEkVCa\n",
            "https://encrypted-tbn2.gstatic.com/images?q\\u003dtbn:ANd9GcTVOJnSK_v_KC8_UOtRpONOQtPW8h114v7EBMD3q6mdNdEry5Qt\n",
            "https://www.youtube.com/watch?v\\u003d8qP2x07aoCU\n",
            "https://www.youtube.com/watch?v\\u003d8qP2x07aoCU\n",
            "https://encrypted-tbn0.gstatic.com/favicon-tbn?q\\u003dtbn:ANd9GcQHQslzHLLyLc_qne5jxn7JocidlmUPyegZ8ojX3WVlorFk8BxW9a3vJWjDzN99UHVTqSaNBj_-6XykhxuVQfF3Ye7xScSWSuc2QHXi0a12CkVwBmo\n",
            "https://encrypted-tbn0.gstatic.com/images?q\\u003dtbn:ANd9GcSn7Tgq2ZfHYLHV1ykOBfmNqVNlZJusuVR-e-2ReTdnMIjprq0W\n",
            "https://www.usatoday.com/story/news/2015/08/26/virginia-shooting-live-tv/32433013/\n",
            "https://www.usatoday.com/story/news/2015/08/26/virginia-shooting-live-tv/32433013/\n",
            "https://encrypted-tbn3.gstatic.com/favicon-tbn?q\\u003dtbn:ANd9GcRkw90JTOBQFA6Ysfk8QBTt_ObUcEoOHvZd2vm0JFDBtH2ZqgEJ2xCTePKyo7RXVAwuFsAg-6vLfXa-mWTBzpAYASGFDOhiZBFzhWsTHJ8N9KZOBawL\n",
            "https://encrypted-tbn2.gstatic.com/images?q\\u003dtbn:ANd9GcSdVJXZ0PHmQNg-DwIKlLGq4yfCo297-BBUYumcYDnDcTGQc2TB\n",
            "https://www.amazon.co.uk/AOC-M2470SWH-Widescreen-Multimedia-1920x1080/product-reviews/B00O4ATF2Q\n",
            "https://www.amazon.co.uk/AOC-M2470SWH-Widescreen-Multimedia-1920x1080/product-reviews/B00O4ATF2Q\n",
            "https://encrypted-tbn2.gstatic.com/favicon-tbn?q\\u003dtbn:ANd9GcRRkAHkF-ovJK-YyofWXP8r650qPXhSfJe1wj_EzqcZySJLIxgSC4UVkcHRkizlOgPRz49y2WW1958P9lJLbVQsBHCAVmZqpXQaRn5ftHiccc5v5xLK\n",
            "https://encrypted-tbn2.gstatic.com/images?q\\u003dtbn:ANd9GcQeLr2naXGlRbw49JSGeLVK8a7IKHSFH0Ahr8K2QENHrBIPeR08\n",
            "https://www.facebook.com/thelofihub/?locale\\u003dsk_SK\n",
            "https://www.facebook.com/thelofihub/?locale\\u003dsk_SK\n",
            "https://encrypted-tbn3.gstatic.com/favicon-tbn?q\\u003dtbn:ANd9GcRv794zBOQO02ChHD5K_TnlJwwf8PThFmn58OZAhQnomqvb1XKnHGAk8BQDBcyXho53FvXtsB2eVFSimUAzH3zcBAPC_yfttm2gkn07x3UumIdkepR5\n",
            "https://encrypted-tbn3.gstatic.com/images?q\\u003dtbn:ANd9GcQRXYEXZ36FEOmrCtN4NLP2d23q22zvqrjQ-V7_wkT-3Np8vKTz\n",
            "https://www.olx.in/item/lg-tv-32-iid-1741219119\n",
            "https://www.olx.in/item/lg-tv-32-iid-1741219119\n",
            "https://encrypted-tbn0.gstatic.com/favicon-tbn?q\\u003dtbn:ANd9GcQoATfCQ7MU74fseKFisKqESqz9zOeIR6cTDUW2T533-oBsHsvVJJDqiHeqRMyGPeFawaeunSsElQwtXKsqPvwUZww4mu6fsldrZNzNw1EF\n",
            "https://encrypted-tbn0.gstatic.com/images?q\\u003dtbn:ANd9GcQ8qJ9YzzHHzByhsrAdc_v4tlICrg4_UkmOt-9FrV7IxIVuqEBp\n",
            "https://www.reddit.com/r/hometheater/comments/13th324/help_amplifier_home_theater_to_pc_51/\n",
            "https://www.reddit.com/r/hometheater/comments/13th324/help_amplifier_home_theater_to_pc_51/\n",
            "https://encrypted-tbn2.gstatic.com/favicon-tbn?q\\u003dtbn:ANd9GcRFeJS-IhfJCysoVmCqJ1d-1lzbIHTsbcy4DrBsZJpxQ31zznhym7THnNEKCEnngpvdl4aupEFtEblIPBEMJY7_biy055d40m6TYfVg7CpFOrWOXw\n",
            "https://encrypted-tbn1.gstatic.com/images?q\\u003dtbn:ANd9GcQR1OTMVpFbyl0dp4uYAUsJgddGctxeFnqtijWxSAOHM89Scbim\n",
            "https://soundcloud.com/tyler87\n",
            "https://soundcloud.com/tyler87\n",
            "https://encrypted-tbn1.gstatic.com/favicon-tbn?q\\u003dtbn:ANd9GcTWklS_3KqQH15GPWARbs-G5jKhJ59J8GdWG2aNwWaWW0HyKzE5R1Gp8RvKIrU_lCqBUtl2wByUb7iN9-xpFx4kDI3MM1tRXfZ5nuwMmx7JH4J9mA\n",
            "https://encrypted-tbn0.gstatic.com/images?q\\u003dtbn:ANd9GcSvazF6vE4BN_z7EqNNPeC1treUSagG4Hpkdo5k3-jKfhDRcx-e\n",
            "https://www.reddit.com/r/TVRepair/comments/omeo46/samsung_smart_tv_flickeringblinking_dont_know_why/\n",
            "https://www.reddit.com/r/TVRepair/comments/omeo46/samsung_smart_tv_flickeringblinking_dont_know_why/\n",
            "https://encrypted-tbn2.gstatic.com/favicon-tbn?q\\u003dtbn:ANd9GcRFeJS-IhfJCysoVmCqJ1d-1lzbIHTsbcy4DrBsZJpxQ31zznhym7THnNEKCEnngpvdl4aupEFtEblIPBEMJY7_biy055d40m6TYfVg7CpFOrWOXw\n",
            "https://encrypted-tbn3.gstatic.com/images?q\\u003dtbn:ANd9GcSbxlGITg9STbJc679w5plJ-8LZD5yotA8GWcTh9N6MPDL01M75\n",
            "https://tenor.com/view/ck-music-gun-gif-17151366\n",
            "https://tenor.com/view/ck-music-gun-gif-17151366\n",
            "https://encrypted-tbn0.gstatic.com/favicon-tbn?q\\u003dtbn:ANd9GcTjcoKjeY6V01mXFE-hglq1Zsgx66zfFkggGNKm1kwIBLFewdTBA2cfCK55AP7-hcsSGdKtiLGOzQBGPWGQOmeg6CrWJp8gyfZBMkiYa_c\n",
            "https://encrypted-tbn3.gstatic.com/images?q\\u003dtbn:ANd9GcSww3aa4iOUfZgTM-8Pc6CqelW3z2Fvqevci1Njwuis2xFCBGLl\n",
            "https://instaprints.com/featured/friday--sahil-gupta.html?product\\u003diphone-case-cover\\u0026phoneCaseType\\u003diphone5\n",
            "https://instaprints.com/featured/friday--sahil-gupta.html?product\\u003diphone-case-cover\\u0026phoneCaseType\\u003diphone5\n",
            "https://encrypted-tbn1.gstatic.com/favicon-tbn?q\\u003dtbn:ANd9GcSxX_OzREr_780EnMDxdow9t75cB-3bYiGD_iemtC93qirlLrW09JWFSJBBW_BvKxt7g36W7urCvfcGewADct5hfyPsvKIdLzo21wmabhM2DyP8jaU\n",
            "https://encrypted-tbn0.gstatic.com/images?q\\u003dtbn:ANd9GcQtm-uheOI0-2H81KmkgjdHOUZiUgWWRtGBruGj3TG7lcAaPl9-\n",
            "https://community.home-assistant.io/t/nuc-install/116527\n",
            "https://community.home-assistant.io/t/nuc-install/116527\n",
            "https://encrypted-tbn0.gstatic.com/favicon-tbn?q\\u003dtbn:ANd9GcTDoVrck5wsmQ8Ji5QzX4b7e1LQhjLe9qARWK9PLYsWW9PG7Ruzuo37KLbLTv66Vbvw0cscJhyPVFQ1I3hY6PfIrUqLgrpxNVekEY20btHnmG8wLJ7fvWIff5I3FL2kg0M\n",
            "https://encrypted-tbn3.gstatic.com/images?q\\u003dtbn:ANd9GcSzmoPMSFyb_WjXLdvlPUvperx0DqlgMo6DssDmDEAeTLa5kdJm\n",
            "https://www.fiverr.com/claudiomatusse/create-custom-software-in-delphi\n",
            "https://www.fiverr.com/claudiomatusse/create-custom-software-in-delphi\n",
            "https://encrypted-tbn0.gstatic.com/favicon-tbn?q\\u003dtbn:ANd9GcSPc82k4ymODKw-MxXbrzAta_TXvZl94oyJIuj2xnfLSUrkf6OsTnu0RC19_-zYi5eUw6ED6Cl0WrfwCJgMop-7aJTmGTLGfttmk_0i8wk3_PsaPA\n",
            "https://encrypted-tbn0.gstatic.com/images?q\\u003dtbn:ANd9GcS4d96cz8tcz-FllvnWcte7CqtB0JnrrT_qz9GK2-7IjMiLAHei\n",
            "https://www.reddit.com/r/OLED_Gaming/comments/vrd78m/c1_oled_stuck_pixeldead_pixel_circle_why_did_this/\n",
            "https://www.reddit.com/r/OLED_Gaming/comments/vrd78m/c1_oled_stuck_pixeldead_pixel_circle_why_did_this/\n",
            "https://encrypted-tbn2.gstatic.com/favicon-tbn?q\\u003dtbn:ANd9GcRFeJS-IhfJCysoVmCqJ1d-1lzbIHTsbcy4DrBsZJpxQ31zznhym7THnNEKCEnngpvdl4aupEFtEblIPBEMJY7_biy055d40m6TYfVg7CpFOrWOXw\n",
            "https://encrypted-tbn3.gstatic.com/images?q\\u003dtbn:ANd9GcSp2wQ9juurYH9ECjV38sF2qzrv8dr2EngwZIAYlEVeZJ98rBKM\n",
            "https://www.reddit.com/r/PUBG/comments/13dft3z/pubg_cosplay_attempt_victory_dance_41/\n",
            "https://www.reddit.com/r/PUBG/comments/13dft3z/pubg_cosplay_attempt_victory_dance_41/\n",
            "https://encrypted-tbn2.gstatic.com/favicon-tbn?q\\u003dtbn:ANd9GcRFeJS-IhfJCysoVmCqJ1d-1lzbIHTsbcy4DrBsZJpxQ31zznhym7THnNEKCEnngpvdl4aupEFtEblIPBEMJY7_biy055d40m6TYfVg7CpFOrWOXw\n",
            "https://encrypted-tbn1.gstatic.com/images?q\\u003dtbn:ANd9GcTjRjhX1_0qXKjOY0RuCtL8ySDUYuHC07UyXl4_61j7VjTbLWp6\n",
            "https://za.pinterest.com/pin/780248704187553011/\n",
            "https://za.pinterest.com/pin/780248704187553011/\n",
            "https://encrypted-tbn3.gstatic.com/favicon-tbn?q\\u003dtbn:ANd9GcSTupoKdO6ehz5OB5RdRlNLkXDO7RihIuPyMxFFMzT86ZiBbEk9vq9kTZo8Eig2874LhJSU2Ij3JH5mYmfy1BhNWWvF5LeKv8w03sN_DkXHf7VoJpt1\n",
            "https://encrypted-tbn0.gstatic.com/images?q\\u003dtbn:ANd9GcTs8yJhACkOR4azUmUsYfzRl44C-usCLNUilTxwtZJZtRHGDLM1\n",
            "https://www.reddit.com/r/fivenightsatfreddys/comments/15b8uk9/game_breaking_fnaf_ruin_glitch/\n",
            "https://www.reddit.com/r/fivenightsatfreddys/comments/15b8uk9/game_breaking_fnaf_ruin_glitch/\n",
            "https://encrypted-tbn2.gstatic.com/favicon-tbn?q\\u003dtbn:ANd9GcRFeJS-IhfJCysoVmCqJ1d-1lzbIHTsbcy4DrBsZJpxQ31zznhym7THnNEKCEnngpvdl4aupEFtEblIPBEMJY7_biy055d40m6TYfVg7CpFOrWOXw\n",
            "https://encrypted-tbn1.gstatic.com/images?q\\u003dtbn:ANd9GcSfQSpGF_TbxIwU9LAIOpB43EzFm3KMIBPjYTGc3extQmdQf9XH\n",
            "https://ko-fi.com/madeinheavenjpg/tiers\n",
            "https://ko-fi.com/madeinheavenjpg/tiers\n",
            "https://encrypted-tbn2.gstatic.com/favicon-tbn?q\\u003dtbn:ANd9GcSGjx700F0z74_K6DAtFyl17qYPM1Ky-kCrB0fv5JdFj-V6TPj1XbkUE48J-0E4AUtA5XF6zlpoMouSSQBe2XY91iPFD0A3FdaqoeQ49nE\n",
            "https://encrypted-tbn1.gstatic.com/images?q\\u003dtbn:ANd9GcS2pnn_bLSfexvT3hhyz2HemDFPbCXc_dttWDnHgR_mmji2SqhY\n",
            "https://encrypted-tbn3.gstatic.com/favicon-tbn?q\\u003dtbn:ANd9GcQw1616IeJQgjYwjCx6lwCWI1XAxqn1Qg3axMOQtDq6OgsHUVB3Y1N7GiThKpJ1tyOXFoD7I1qJ4_8BezGF75JDTmgyMOC8nJHhNF9U1h2hf0UPdVo\n",
            "https://encrypted-tbn2.gstatic.com/images?q\\u003dtbn:ANd9GcQddNEZO15f_qhABzTelM9shlMmoOSU9VAEYx-muAPTAe-zi6Wg\n",
            "https://www.reddit.com/r/fivenightsatfreddys/comments/cux76w/withered_bonnie_appears_if_click_the_exotic/\n",
            "https://www.reddit.com/r/fivenightsatfreddys/comments/cux76w/withered_bonnie_appears_if_click_the_exotic/\n",
            "https://encrypted-tbn2.gstatic.com/favicon-tbn?q\\u003dtbn:ANd9GcRFeJS-IhfJCysoVmCqJ1d-1lzbIHTsbcy4DrBsZJpxQ31zznhym7THnNEKCEnngpvdl4aupEFtEblIPBEMJY7_biy055d40m6TYfVg7CpFOrWOXw\n",
            "https://encrypted-tbn0.gstatic.com/images?q\\u003dtbn:ANd9GcS427ZSjJha7PbK0B5m6bn_wtgH7Kcmg9xJ2mDeWMbd88gBSA82\n",
            "https://www.reddit.com/r/pcmasterrace/comments/5qmxpz/live_wallpapers_with_wallpaper_engine_steam/\n",
            "https://www.reddit.com/r/pcmasterrace/comments/5qmxpz/live_wallpapers_with_wallpaper_engine_steam/\n",
            "https://encrypted-tbn2.gstatic.com/favicon-tbn?q\\u003dtbn:ANd9GcRFeJS-IhfJCysoVmCqJ1d-1lzbIHTsbcy4DrBsZJpxQ31zznhym7THnNEKCEnngpvdl4aupEFtEblIPBEMJY7_biy055d40m6TYfVg7CpFOrWOXw\n",
            "https://encrypted-tbn2.gstatic.com/images?q\\u003dtbn:ANd9GcRAGgRzHOpeWw4H87QoGza6kGnHV2UP_9RzPgK-LQBym9R74L4D\n",
            "https://www.ttlcherbal.com/does-shisha-or-hookah-get-you-high/\n",
            "https://www.ttlcherbal.com/does-shisha-or-hookah-get-you-high/\n",
            "https://encrypted-tbn2.gstatic.com/favicon-tbn?q\\u003dtbn:ANd9GcTWy2meFli-1lgiAmv_O2O_n8De97rctajc8n-bbjpPmRQiCi1vmQl-9ze7hAypnUSM94sKtA2KvAbGbVcb5bRvbVIClu92SaMm_SeSRglZAIAa9aIhYSI\n",
            "https://encrypted-tbn1.gstatic.com/images?q\\u003dtbn:ANd9GcTZhtVe3o86qORcPFrPKsxV7tBOLMGuKa_nydSHrJbzoX73uwc5\n",
            "https://www.reddit.com/r/tcltvs/comments/z9aun9/hey_guysi_just_recently_got_tcl_r646_and/\n",
            "https://www.reddit.com/r/tcltvs/comments/z9aun9/hey_guysi_just_recently_got_tcl_r646_and/\n",
            "https://encrypted-tbn2.gstatic.com/favicon-tbn?q\\u003dtbn:ANd9GcRFeJS-IhfJCysoVmCqJ1d-1lzbIHTsbcy4DrBsZJpxQ31zznhym7THnNEKCEnngpvdl4aupEFtEblIPBEMJY7_biy055d40m6TYfVg7CpFOrWOXw\n",
            "https://encrypted-tbn1.gstatic.com/images?q\\u003dtbn:ANd9GcTJChaNFCLhvOqxCxu2eUDmmHX0lsDzJtTgJ9xtWQe0LBnhegx9\n",
            "https://www.olx.in/items/q-hdtv\n",
            "https://www.olx.in/items/q-hdtv\n",
            "https://encrypted-tbn0.gstatic.com/favicon-tbn?q\\u003dtbn:ANd9GcQoATfCQ7MU74fseKFisKqESqz9zOeIR6cTDUW2T533-oBsHsvVJJDqiHeqRMyGPeFawaeunSsElQwtXKsqPvwUZww4mu6fsldrZNzNw1EF\n",
            "https://encrypted-tbn1.gstatic.com/images?q\\u003dtbn:ANd9GcStoSPAInRXpgd_1ynPacJNHB259_nQ3unLYjAg8JLpp5u0uHu8\n",
            "https://www.pinterest.com/pin/personajes--1053701644039546986/\n",
            "https://www.pinterest.com/pin/personajes--1053701644039546986/\n",
            "https://encrypted-tbn0.gstatic.com/favicon-tbn?q\\u003dtbn:ANd9GcTQdhYKRbbqgCC_hUKbg1LBwalc5hFvDef04aKtEm4ymk1UmePKJrPlt_LjHvB7Aq1dYoIBbiIJ1NlsjKc5XTus20V-QeQkUPl9ea4gZzUE1nhIYNB2UA\n",
            "https://encrypted-tbn3.gstatic.com/images?q\\u003dtbn:ANd9GcTbNMHgsWYL-ddsu0DVYXd7KRxyayraD9e7Sdf-zeViPv8Qsogv\n",
            "https://vower.bandcamp.com/\n",
            "https://vower.bandcamp.com/\n",
            "https://encrypted-tbn2.gstatic.com/favicon-tbn?q\\u003dtbn:ANd9GcR5DH9Yjwj67D2bEAnrlnE14BQGfKTGdzqrUEb27s46hD7Zb8v3l8G-oJBJQ2ctWgFDuw6u8b9Y5WM4M3XTMYGT_kZUuAuSPEoQJfBcxD7730WTGtu-sxs\n",
            "https://encrypted-tbn1.gstatic.com/images?q\\u003dtbn:ANd9GcTU-fTcsmCwIwSZcB_t527XYRRuX6KfVFduAhptqAhQ1TBEucQN\n",
            "https://www.reddit.com/r/ColdWarZombies/comments/11tjaey/yes_ive_made_it_to_round_935_now_to_see_what/\n",
            "https://www.reddit.com/r/ColdWarZombies/comments/11tjaey/yes_ive_made_it_to_round_935_now_to_see_what/\n",
            "https://encrypted-tbn2.gstatic.com/favicon-tbn?q\\u003dtbn:ANd9GcRFeJS-IhfJCysoVmCqJ1d-1lzbIHTsbcy4DrBsZJpxQ31zznhym7THnNEKCEnngpvdl4aupEFtEblIPBEMJY7_biy055d40m6TYfVg7CpFOrWOXw\n",
            "https://encrypted-tbn3.gstatic.com/images?q\\u003dtbn:ANd9GcQsbOtxyqBhATln_7vSOCdfxS4qJFoNfkMiHVgiAGyEyfR7PD92\n",
            "https://www.pinterest.com/pin/snap-map--646407352768230511/\n",
            "https://www.pinterest.com/pin/snap-map--646407352768230511/\n",
            "https://encrypted-tbn0.gstatic.com/favicon-tbn?q\\u003dtbn:ANd9GcTQdhYKRbbqgCC_hUKbg1LBwalc5hFvDef04aKtEm4ymk1UmePKJrPlt_LjHvB7Aq1dYoIBbiIJ1NlsjKc5XTus20V-QeQkUPl9ea4gZzUE1nhIYNB2UA\n",
            "https://encrypted-tbn2.gstatic.com/images?q\\u003dtbn:ANd9GcTNfDfojeB1uMicolVieYqZtq6tbJ8PPqnO9WogFofXIUzDKJKs\n",
            "https://m.youtube.com/watch?v\\u003dDe25v3iPcVk\n",
            "https://m.youtube.com/watch?v\\u003dDe25v3iPcVk\n",
            "https://encrypted-tbn2.gstatic.com/favicon-tbn?q\\u003dtbn:ANd9GcSJqkDeIp4r8E4YFeIN54NKZVcykOisjz373y_DXCUH9RH3jDLetQvWIzlziT1XObIL62pk_3mp2rXzGbH7ZaM9Qz69T0ZFVKCMXgU4Vls709KL\n",
            "https://encrypted-tbn3.gstatic.com/images?q\\u003dtbn:ANd9GcTDc_Gx5dcSh0MeatZXFkokHU8_wKat9iBhdXu8bcd4VsU99d4z\n",
            "https://www.reddit.com/r/PleX/comments/wo4fxn/50_of_my_4k_movies_turn_out_like_this_any_fixes/\n",
            "https://www.reddit.com/r/PleX/comments/wo4fxn/50_of_my_4k_movies_turn_out_like_this_any_fixes/\n",
            "https://encrypted-tbn2.gstatic.com/favicon-tbn?q\\u003dtbn:ANd9GcRFeJS-IhfJCysoVmCqJ1d-1lzbIHTsbcy4DrBsZJpxQ31zznhym7THnNEKCEnngpvdl4aupEFtEblIPBEMJY7_biy055d40m6TYfVg7CpFOrWOXw\n",
            "https://encrypted-tbn2.gstatic.com/images?q\\u003dtbn:ANd9GcTE0y2Pw8eK-ePJc7mFVOwPEcuraVxrVlUKAe2s-IjFOlt_Sd6c\n",
            "https://www.reddit.com/r/watercooling/comments/8mddkf/okay_how_do_i_turn_this_light_off_its_being/\n",
            "https://www.reddit.com/r/watercooling/comments/8mddkf/okay_how_do_i_turn_this_light_off_its_being/\n",
            "https://encrypted-tbn2.gstatic.com/favicon-tbn?q\\u003dtbn:ANd9GcRFeJS-IhfJCysoVmCqJ1d-1lzbIHTsbcy4DrBsZJpxQ31zznhym7THnNEKCEnngpvdl4aupEFtEblIPBEMJY7_biy055d40m6TYfVg7CpFOrWOXw\n",
            "https://encrypted-tbn1.gstatic.com/images?q\\u003dtbn:ANd9GcSFJDympZpikNih0xCvQHztDGK6gfzkZafc47Wuzf20wCIc5cdu\n",
            "https://www.reddit.com/r/streamdeckprofiles/comments/lj83su/final_version_of_my_shutdown_pc_control/\n",
            "https://www.reddit.com/r/streamdeckprofiles/comments/lj83su/final_version_of_my_shutdown_pc_control/\n",
            "https://encrypted-tbn2.gstatic.com/favicon-tbn?q\\u003dtbn:ANd9GcRFeJS-IhfJCysoVmCqJ1d-1lzbIHTsbcy4DrBsZJpxQ31zznhym7THnNEKCEnngpvdl4aupEFtEblIPBEMJY7_biy055d40m6TYfVg7CpFOrWOXw\n",
            "https://encrypted-tbn0.gstatic.com/images?q\\u003dtbn:ANd9GcQ5TsUSbARc5HXi_Zg1DybFObNgF11ooaM3nU1Im-TKidHdaUS-\n",
            "https://www.trustedreviews.com/reviews/philips-55pus6401\n",
            "https://www.trustedreviews.com/reviews/philips-55pus6401\n",
            "https://encrypted-tbn1.gstatic.com/favicon-tbn?q\\u003dtbn:ANd9GcQqqWeqYm1JijrZ4r2p7M4lC4L-p1DjvYNJ3vnN-sz65kBDy75K43Jc9Y_NDZyRp4Hkok3rG1ujpY57TNJS5L-WoOSRaW4h0seENcwNth2PSXSz4OrgdThHex1X\n",
            "https://encrypted-tbn3.gstatic.com/images?q\\u003dtbn:ANd9GcRV8Tt98XG6BdmaAbZV9rEfOpeyfvPFcaca4khHtq6yg1Cz4ecK\n",
            "https://www.instagram.com/only1chairmo/\n",
            "https://www.instagram.com/only1chairmo/\n",
            "https://encrypted-tbn3.gstatic.com/favicon-tbn?q\\u003dtbn:ANd9GcSpoKX-MM8KwYvjLm-JRx4G0Kwl8RLkE48NjkNQo2Gq3SC32GSp-nb0Bv1Gwdg0bIZuT7qIQcsQnlAbeKhfDsUARVp1OzzHay_AKGuFGTR9Of3S2pacaw\n",
            "https://encrypted-tbn0.gstatic.com/images?q\\u003dtbn:ANd9GcSI16oY3-x9Va5HeLh3Z_mbkhNtBRR3n7z4cY4bWHeQB2uY3eUs\n",
            "https://genius.com/Lawsy-partner-in-crime-lyrics\n",
            "https://genius.com/Lawsy-partner-in-crime-lyrics\n",
            "https://encrypted-tbn0.gstatic.com/favicon-tbn?q\\u003dtbn:ANd9GcQmqqi0KDa34McnubqlJpsUQP0necBRy-Lb3l32mYdZQj60fX-UBqT82vfUfF7xaFJIAHhi6dvHBD3C-dsMPxVXGrq-boesrDCKYKlF0lCy\n",
            "https://encrypted-tbn1.gstatic.com/images?q\\u003dtbn:ANd9GcR9xnolY4h4h94LgCxXseO2C5VCSrsj2nTlUaoZSRgeNSaJxZk3\n",
            "https://soundcloud.com/aquarian/sets/aquarian-obsidian-ep-uno013-1\n",
            "https://soundcloud.com/aquarian/sets/aquarian-obsidian-ep-uno013-1\n",
            "https://encrypted-tbn1.gstatic.com/favicon-tbn?q\\u003dtbn:ANd9GcTWklS_3KqQH15GPWARbs-G5jKhJ59J8GdWG2aNwWaWW0HyKzE5R1Gp8RvKIrU_lCqBUtl2wByUb7iN9-xpFx4kDI3MM1tRXfZ5nuwMmx7JH4J9mA\n",
            "https://encrypted-tbn1.gstatic.com/images?q\\u003dtbn:ANd9GcRppSBkNRAcR9kJ3-NGeDimba776uW4ze_X1NaLi1GSLWmj6Dg6\n",
            "https://apenasimagens.com/en/home/\n",
            "https://apenasimagens.com/en/home/\n",
            "https://encrypted-tbn1.gstatic.com/favicon-tbn?q\\u003dtbn:ANd9GcS4mfqQoFJEJQ1jyyZYMmdnn02EtQ5xNT2QjCVkqlez5c4xKOSHXb9HrPqOBioRIiw_bJ9ql58WjIqlp64h7HoXRNRiHFfdDkdC-htl809UOShQS08xVQ\n",
            "https://encrypted-tbn3.gstatic.com/images?q\\u003dtbn:ANd9GcRJhjYb4AcPtZu1Ba60CYI-A-gY0nrIo1QECwH1iFynuChBR4Di\n",
            "https://m.youtube.com/watch?v\\u003dt997LzWvCZI\n",
            "https://m.youtube.com/watch?v\\u003dt997LzWvCZI\n",
            "https://encrypted-tbn2.gstatic.com/favicon-tbn?q\\u003dtbn:ANd9GcSJqkDeIp4r8E4YFeIN54NKZVcykOisjz373y_DXCUH9RH3jDLetQvWIzlziT1XObIL62pk_3mp2rXzGbH7ZaM9Qz69T0ZFVKCMXgU4Vls709KL\n",
            "https://encrypted-tbn1.gstatic.com/images?q\\u003dtbn:ANd9GcRAY3WUV3BwICRmn2bQGTsEs-dexe348T-seLZJDjF1LBb4kOI4\n",
            "https://www.reddit.com/r/popheads/comments/ypxnh2/raye_announces_music_video_for_escapism_tomorrow/\n",
            "https://www.reddit.com/r/popheads/comments/ypxnh2/raye_announces_music_video_for_escapism_tomorrow/\n",
            "https://encrypted-tbn2.gstatic.com/favicon-tbn?q\\u003dtbn:ANd9GcRFeJS-IhfJCysoVmCqJ1d-1lzbIHTsbcy4DrBsZJpxQ31zznhym7THnNEKCEnngpvdl4aupEFtEblIPBEMJY7_biy055d40m6TYfVg7CpFOrWOXw\n",
            "https://encrypted-tbn1.gstatic.com/images?q\\u003dtbn:ANd9GcRFSvaDeABO7Sql48eAgXAXnHeqoy_koYtn1l9bTVrUTQ4Rfs5g\n",
            "https://foursquare.com/v/rendac/503ccb62e4b0f8bcbec1c413\n",
            "https://foursquare.com/v/rendac/503ccb62e4b0f8bcbec1c413\n",
            "https://encrypted-tbn1.gstatic.com/favicon-tbn?q\\u003dtbn:ANd9GcSunGLQTCQcekIT6G5G9fDU76_rcXk7DTuU5jX0Mgd-F-71NCmrU2eF1gansn8v-wbbj0g86qN_mwYxYPt3yNYGzAyKOlifuCTVq99rMS-eAjyuEg\n",
            "https://encrypted-tbn1.gstatic.com/images?q\\u003dtbn:ANd9GcRBN_fPJVNDWVb8mwBf4HnQ3-bnO3U4O3ogcszBaA27OjAg3x32\n",
            "https://www.reddit.com/r/Monitors/comments/x60t6f/i_need_help_what_is_this_thing_around_my_monitor/\n",
            "https://www.reddit.com/r/Monitors/comments/x60t6f/i_need_help_what_is_this_thing_around_my_monitor/\n",
            "https://encrypted-tbn2.gstatic.com/favicon-tbn?q\\u003dtbn:ANd9GcRFeJS-IhfJCysoVmCqJ1d-1lzbIHTsbcy4DrBsZJpxQ31zznhym7THnNEKCEnngpvdl4aupEFtEblIPBEMJY7_biy055d40m6TYfVg7CpFOrWOXw\n",
            "https://encrypted-tbn3.gstatic.com/images?q\\u003dtbn:ANd9GcQIEp-9aZFFYms2BM8CJ4F67Aik2oVDPeinecJ646DkfUYexlOg\n",
            "https://www.olx.in/butler-palace-colony_g5341764/furniture_c628/q-computer-table\n",
            "https://www.olx.in/butler-palace-colony_g5341764/furniture_c628/q-computer-table\n",
            "https://encrypted-tbn0.gstatic.com/favicon-tbn?q\\u003dtbn:ANd9GcQoATfCQ7MU74fseKFisKqESqz9zOeIR6cTDUW2T533-oBsHsvVJJDqiHeqRMyGPeFawaeunSsElQwtXKsqPvwUZww4mu6fsldrZNzNw1EF\n",
            "https://encrypted-tbn1.gstatic.com/images?q\\u003dtbn:ANd9GcS7z6sCSxlArI9S49IJzfqXdGHIRXth7GVmckx4xR6PyVRZlEl1\n",
            "https://www.instagram.com/chrisoneal4/\n",
            "https://www.instagram.com/chrisoneal4/\n",
            "https://encrypted-tbn3.gstatic.com/favicon-tbn?q\\u003dtbn:ANd9GcSpoKX-MM8KwYvjLm-JRx4G0Kwl8RLkE48NjkNQo2Gq3SC32GSp-nb0Bv1Gwdg0bIZuT7qIQcsQnlAbeKhfDsUARVp1OzzHay_AKGuFGTR9Of3S2pacaw\n",
            "https://encrypted-tbn1.gstatic.com/images?q\\u003dtbn:ANd9GcSqzzWO-OFVJzgFSCxY_qlHnY35vii8aduP4rU5pwrzpPpNvJQT\n",
            "https://www.reddit.com/r/Hue/comments/kdci8e/cyberpunk_2077_hue_light_setup/\n",
            "https://www.reddit.com/r/Hue/comments/kdci8e/cyberpunk_2077_hue_light_setup/\n",
            "https://encrypted-tbn2.gstatic.com/favicon-tbn?q\\u003dtbn:ANd9GcRFeJS-IhfJCysoVmCqJ1d-1lzbIHTsbcy4DrBsZJpxQ31zznhym7THnNEKCEnngpvdl4aupEFtEblIPBEMJY7_biy055d40m6TYfVg7CpFOrWOXw\n",
            "https://encrypted-tbn0.gstatic.com/images?q\\u003dtbn:ANd9GcRKB1stL95WGKBeZujSDF0JSbIrjfAODtJfQ4QCFTMLbt9twW6A\n",
            "https://www.olx.in/esplanade_g5345236/computer-accessories_c1515\n",
            "https://www.olx.in/esplanade_g5345236/computer-accessories_c1515\n",
            "https://encrypted-tbn0.gstatic.com/favicon-tbn?q\\u003dtbn:ANd9GcQoATfCQ7MU74fseKFisKqESqz9zOeIR6cTDUW2T533-oBsHsvVJJDqiHeqRMyGPeFawaeunSsElQwtXKsqPvwUZww4mu6fsldrZNzNw1EF\n",
            "https://encrypted-tbn2.gstatic.com/images?q\\u003dtbn:ANd9GcQBffliOnZjQUcw06m3THdW-FJ2fqaxZwP_x4SGJyiatGEUdgMU\n",
            "https://www.reddit.com/r/ReefTank/comments/1030v2q/is_this_ok_waterbox_cube_20_the_foam_mat/\n",
            "https://www.reddit.com/r/ReefTank/comments/1030v2q/is_this_ok_waterbox_cube_20_the_foam_mat/\n",
            "https://encrypted-tbn2.gstatic.com/favicon-tbn?q\\u003dtbn:ANd9GcRFeJS-IhfJCysoVmCqJ1d-1lzbIHTsbcy4DrBsZJpxQ31zznhym7THnNEKCEnngpvdl4aupEFtEblIPBEMJY7_biy055d40m6TYfVg7CpFOrWOXw\n",
            "https://encrypted-tbn3.gstatic.com/images?q\\u003dtbn:ANd9GcTX59_M6iHXnYhmvYulwD5sKeON_-AhzuXtUlyz6Q0hCnMQkPCT\n",
            "https://spceco.bandcamp.com/music\n",
            "https://spceco.bandcamp.com/music\n",
            "https://encrypted-tbn2.gstatic.com/favicon-tbn?q\\u003dtbn:ANd9GcTIfjlXJ9StXr-33WkzpyV3vHMmcOII_Udke9n8sSn1cd9NXppiy_aWu7VlXKG2dYavJIGdn0YXeX_gsyZV3tgyA36yiXl-yCgHwupyFdFtJfI6MfJ_lvTE\n",
            "https://encrypted-tbn1.gstatic.com/images?q\\u003dtbn:ANd9GcT-6vAcFGN_Pm-j4VLzTys_y8B1sW8GfQPomI_ddy6n_URPCKuw\n",
            "https://www.bestbuy.com/site/amazon-fire-tv-stick-with-alexa-voice-remote-black/5477500.p?skuId\\u003d5477500\n",
            "https://www.bestbuy.com/site/amazon-fire-tv-stick-with-alexa-voice-remote-black/5477500.p?skuId\\u003d5477500\n",
            "https://encrypted-tbn1.gstatic.com/favicon-tbn?q\\u003dtbn:ANd9GcQRElpIn0_ngPFmOJ5ZdW65M7G4nuI9MycoEeMitUDh35QpZN3krTU2tf03QRaenlaJn4hTIdv1gBd0yWlFCTuep64IeIo7wzb0RKajGmDwhoSbHbc\n"
          ]
        }
      ],
      "source": [
        "visualsearch()"
      ]
    },
    {
      "cell_type": "code",
      "execution_count": null,
      "id": "5488db80",
      "metadata": {
        "id": "5488db80",
        "outputId": "735e63dd-e4a4-4a51-8f77-5a534d28ec62"
      },
      "outputs": [
        {
          "name": "stdout",
          "output_type": "stream",
          "text": [
            "https://www.google.com/search?tbs\\u003dsbi:AMhZZiszs1jnd72XWLtYBnNQuNMRw3Zh699ueY_1jt638Dm_12DW2zUsaBO3DOqbR8zSFS-mRtWP4F2MSPLY51l8Hy_1Qq9KL5VpDJpeioYBfGrlgHtBRrV0GRVOteI7nxuWwufZ2vIVUf9LcQ1nVkdVa1EQEPEZRWNxw\n"
          ]
        }
      ],
      "source": [
        "visualsearch()"
      ]
    },
    {
      "cell_type": "code",
      "execution_count": null,
      "id": "0f3f7cfb",
      "metadata": {
        "id": "0f3f7cfb",
        "outputId": "aa5b9c26-482a-4d89-9601-066a8eb495c5"
      },
      "outputs": [
        {
          "name": "stdout",
          "output_type": "stream",
          "text": [
            "Image saved as captured_image.png\n"
          ]
        }
      ],
      "source": [
        "\n"
      ]
    },
    {
      "cell_type": "code",
      "execution_count": null,
      "id": "96d890a4",
      "metadata": {
        "id": "96d890a4"
      },
      "outputs": [],
      "source": []
    },
    {
      "cell_type": "code",
      "execution_count": null,
      "id": "cdd2c2a7",
      "metadata": {
        "id": "cdd2c2a7"
      },
      "outputs": [],
      "source": []
    },
    {
      "cell_type": "code",
      "execution_count": null,
      "id": "9a5a7403",
      "metadata": {
        "id": "9a5a7403"
      },
      "outputs": [],
      "source": []
    },
    {
      "cell_type": "code",
      "execution_count": null,
      "id": "4e7764c2",
      "metadata": {
        "id": "4e7764c2"
      },
      "outputs": [],
      "source": []
    }
  ],
  "metadata": {
    "kernelspec": {
      "display_name": "Python 3",
      "language": "python",
      "name": "python3"
    },
    "language_info": {
      "codemirror_mode": {
        "name": "ipython",
        "version": 3
      },
      "file_extension": ".py",
      "mimetype": "text/x-python",
      "name": "python",
      "nbconvert_exporter": "python",
      "pygments_lexer": "ipython3",
      "version": "3.8.8"
    },
    "colab": {
      "provenance": [],
      "include_colab_link": true
    }
  },
  "nbformat": 4,
  "nbformat_minor": 5
}